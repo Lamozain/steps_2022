{
 "cells": [
  {
   "cell_type": "markdown",
   "metadata": {},
   "source": [
    "# 2022 DAILY STEPS ANALYSIS\n",
    "<hr>\n",
    "\n",
    "## Amos Moses Omofaiye *Data Analyst and Learning Facilitator*\n",
    "\n",
    "### Table of Contents\n",
    "<ol>\n",
    "<li><a href=\"#intro\">Introduction</a></li>\n",
    "<li><a href=\"#source\">Source of Data</a></li>\n",
    "<li><a href=\"#range\">Range of Data</a></li>\n",
    "<li><a href=\"#objective\">Objective</a></li>\n",
    "<li><a href=\"#research\">Research Questions</a></li>\n",
    "<li><a href=\"#eda\">Exploratory Data Analysis</a></li>\n",
    "<li><a href=\"#ida\">Inferential Data Analysis</a></li>\n",
    "<li><a href=\"#pred23\">Predicting 2023 Steps</a></li>\n",
    "<li><a href=\"#conclusion\">Conclusions</a></li>\n",
    "<li><a href=\"#references\">References</a></li>\n",
    "</ol>"
   ]
  },
  {
   "cell_type": "markdown",
   "metadata": {},
   "source": [
    "<a id='intro'></a>\n",
    "## Introduction\n",
    "This notebook displays the analysis of my steps for five months in 2022 and the prdicted steps for 2023."
   ]
  },
  {
   "cell_type": "markdown",
   "metadata": {},
   "source": [
    "<a id='source'></a>\n",
    "## Source\n",
    "* The source of this data is the pacer app. The datasets are two. One contains episodic data based on periods of the day, and the other contains the total daily steps.\n",
    "    - StartTime: This captured the time and the date the particular episode of the journey started.\n",
    "    - EndTime: This captured the time and the date the particular episode of the journey ended.\n",
    "    - Steps: This is the count od the steps taken during each episode. In this analysis, this will be the dependent variable.\n",
    "    - Calories: This is the calories of energy burned during the episode.\n",
    "    - Distance(meters): This is the distance in meters covered during the episode.\n",
    "    - ActiveTime(seconds): This is the number of seconds that the episode lasted.\n",
    "    - steps_category: Thsi is the category of count of steps. This could be *low, medium, high, or very high*.\n",
    "    - active_minutes: Thsi is the number of minurtes used for the episode.\n",
    "    - weekday: This is the week day in numbers on which the episode occured. It ranges from 1 to 7.\n",
    "    - day_name: This is the name of the day on which the episode occured.\n",
    "    - day_date: This captured the date on which the episode occurred.\n",
    "    - month: This is the month of the year on which the episode occurred. It ranges from 1 to 12.\n",
    "    - month_name: This captured the name of the month on which the episode occurred.\n",
    "    - hour_of_day: This captured the hour of the day on which the episode occurred.\n",
    "    - session: This is the period of the day on which the episode occurred. It could be *night, early morning, noon, evening, or late night*.\n",
    "    - week_of_year: This is the nmmber of the week in the year in which the journey occurred. It ranges from 1 to 52.\n",
    "    - work_location: This is the in which the episode occurred. It could either be *Ilorin* or *Baruten*.\n",
    "    - total_daily_step: This is the aggregate count of all steps taken on the a day across the different episodes."
   ]
  },
  {
   "cell_type": "markdown",
   "metadata": {},
   "source": [
    "<a id='range'></a>\n",
    "## Range\n",
    "* The data was collected between August 3, 2022 and December 31, 2022. It is the reseacher's real distance covered data while visitind different places across three states in Nigeria.\n"
   ]
  },
  {
   "cell_type": "markdown",
   "metadata": {},
   "source": [
    "<a id='source'></a>\n",
    "## Objective\n",
    "The objective of the analysis is to demonstrate the analysis of real-life data and to use the end product to improve the researcher's health management.\n",
    "\n"
   ]
  },
  {
   "cell_type": "markdown",
   "metadata": {},
   "source": [
    "<a id='research'></a>\n",
    "## Research Questions"
   ]
  },
  {
   "cell_type": "markdown",
   "metadata": {},
   "source": [
    "The following research questions will be answered in this analysis.\n",
    "     1. On which days of the weeks are most steps taken?\n",
    "     2. Does location has an effect on the steps taken each day?\n",
    "     3. What are the factors that can be used to predict the daily number of steps taken?\n",
    "     4. What are the examples of the predicted steps for the first quarter of 2023?"
   ]
  },
  {
   "cell_type": "markdown",
   "metadata": {},
   "source": [
    "<a id='eda'></a>\n",
    "### Exploratory Data Analysis\n",
    "In this section, and exploratory analysis of the two datasets cleaned for this analysis is be carried out."
   ]
  },
  {
   "cell_type": "code",
   "execution_count": 2,
   "metadata": {},
   "outputs": [],
   "source": [
    "# Importing the necessary libraries for the analysis\n",
    "import pandas as pd\n",
    "import numpy as np\n",
    "import matplotlib.pyplot as plt\n",
    "import seaborn as sns\n",
    "\n",
    "# Setting the background for the plots and amking them appear in the notebook directly\n",
    "sns.set_style('darkgrid')\n",
    "%matplotlib inline"
   ]
  },
  {
   "cell_type": "code",
   "execution_count": 3,
   "metadata": {},
   "outputs": [],
   "source": [
    "# Loading the datasets\n",
    "step_22 = pd.read_csv('processed_stage2.csv')"
   ]
  },
  {
   "cell_type": "code",
   "execution_count": 4,
   "metadata": {},
   "outputs": [
    {
     "data": {
      "text/html": [
       "<div>\n",
       "<style scoped>\n",
       "    .dataframe tbody tr th:only-of-type {\n",
       "        vertical-align: middle;\n",
       "    }\n",
       "\n",
       "    .dataframe tbody tr th {\n",
       "        vertical-align: top;\n",
       "    }\n",
       "\n",
       "    .dataframe thead th {\n",
       "        text-align: right;\n",
       "    }\n",
       "</style>\n",
       "<table border=\"1\" class=\"dataframe\">\n",
       "  <thead>\n",
       "    <tr style=\"text-align: right;\">\n",
       "      <th></th>\n",
       "      <th>StartTime</th>\n",
       "      <th>EndTime</th>\n",
       "      <th>Steps</th>\n",
       "      <th>Calories</th>\n",
       "      <th>Distance(meters)</th>\n",
       "      <th>ActiveTime(seconds)</th>\n",
       "      <th>steps_category</th>\n",
       "      <th>active_minutes</th>\n",
       "      <th>weekday</th>\n",
       "      <th>day_name</th>\n",
       "      <th>day_date</th>\n",
       "      <th>month</th>\n",
       "      <th>month_name</th>\n",
       "      <th>hour_of_day</th>\n",
       "      <th>session</th>\n",
       "      <th>week_of_year</th>\n",
       "      <th>work_location</th>\n",
       "    </tr>\n",
       "  </thead>\n",
       "  <tbody>\n",
       "    <tr>\n",
       "      <th>0</th>\n",
       "      <td>2022-08-03 20:30:00</td>\n",
       "      <td>2022-08-03 20:44:59</td>\n",
       "      <td>362</td>\n",
       "      <td>11</td>\n",
       "      <td>256</td>\n",
       "      <td>300</td>\n",
       "      <td>high</td>\n",
       "      <td>5.0</td>\n",
       "      <td>2</td>\n",
       "      <td>Wednesday</td>\n",
       "      <td>2022-08-03</td>\n",
       "      <td>8</td>\n",
       "      <td>August</td>\n",
       "      <td>20</td>\n",
       "      <td>Eve</td>\n",
       "      <td>31</td>\n",
       "      <td>baruten</td>\n",
       "    </tr>\n",
       "    <tr>\n",
       "      <th>1</th>\n",
       "      <td>2022-08-03 20:45:00</td>\n",
       "      <td>2022-08-03 20:59:59</td>\n",
       "      <td>501</td>\n",
       "      <td>15</td>\n",
       "      <td>355</td>\n",
       "      <td>360</td>\n",
       "      <td>high</td>\n",
       "      <td>6.0</td>\n",
       "      <td>2</td>\n",
       "      <td>Wednesday</td>\n",
       "      <td>2022-08-03</td>\n",
       "      <td>8</td>\n",
       "      <td>August</td>\n",
       "      <td>20</td>\n",
       "      <td>Eve</td>\n",
       "      <td>31</td>\n",
       "      <td>baruten</td>\n",
       "    </tr>\n",
       "    <tr>\n",
       "      <th>2</th>\n",
       "      <td>2022-08-03 22:00:00</td>\n",
       "      <td>2022-08-03 22:14:59</td>\n",
       "      <td>127</td>\n",
       "      <td>6</td>\n",
       "      <td>90</td>\n",
       "      <td>120</td>\n",
       "      <td>low</td>\n",
       "      <td>2.0</td>\n",
       "      <td>2</td>\n",
       "      <td>Wednesday</td>\n",
       "      <td>2022-08-03</td>\n",
       "      <td>8</td>\n",
       "      <td>August</td>\n",
       "      <td>22</td>\n",
       "      <td>Night</td>\n",
       "      <td>31</td>\n",
       "      <td>baruten</td>\n",
       "    </tr>\n",
       "    <tr>\n",
       "      <th>3</th>\n",
       "      <td>2022-08-04 07:15:00</td>\n",
       "      <td>2022-08-04 07:29:59</td>\n",
       "      <td>176</td>\n",
       "      <td>9</td>\n",
       "      <td>124</td>\n",
       "      <td>120</td>\n",
       "      <td>medium</td>\n",
       "      <td>2.0</td>\n",
       "      <td>3</td>\n",
       "      <td>Thursday</td>\n",
       "      <td>2022-08-04</td>\n",
       "      <td>8</td>\n",
       "      <td>August</td>\n",
       "      <td>7</td>\n",
       "      <td>Early Morning</td>\n",
       "      <td>31</td>\n",
       "      <td>baruten</td>\n",
       "    </tr>\n",
       "    <tr>\n",
       "      <th>4</th>\n",
       "      <td>2022-08-04 07:45:00</td>\n",
       "      <td>2022-08-04 07:59:59</td>\n",
       "      <td>130</td>\n",
       "      <td>8</td>\n",
       "      <td>92</td>\n",
       "      <td>60</td>\n",
       "      <td>low</td>\n",
       "      <td>1.0</td>\n",
       "      <td>3</td>\n",
       "      <td>Thursday</td>\n",
       "      <td>2022-08-04</td>\n",
       "      <td>8</td>\n",
       "      <td>August</td>\n",
       "      <td>7</td>\n",
       "      <td>Early Morning</td>\n",
       "      <td>31</td>\n",
       "      <td>baruten</td>\n",
       "    </tr>\n",
       "  </tbody>\n",
       "</table>\n",
       "</div>"
      ],
      "text/plain": [
       "             StartTime              EndTime  Steps  Calories  \\\n",
       "0  2022-08-03 20:30:00  2022-08-03 20:44:59    362        11   \n",
       "1  2022-08-03 20:45:00  2022-08-03 20:59:59    501        15   \n",
       "2  2022-08-03 22:00:00  2022-08-03 22:14:59    127         6   \n",
       "3  2022-08-04 07:15:00  2022-08-04 07:29:59    176         9   \n",
       "4  2022-08-04 07:45:00  2022-08-04 07:59:59    130         8   \n",
       "\n",
       "   Distance(meters)  ActiveTime(seconds) steps_category  active_minutes  \\\n",
       "0               256                  300           high             5.0   \n",
       "1               355                  360           high             6.0   \n",
       "2                90                  120            low             2.0   \n",
       "3               124                  120         medium             2.0   \n",
       "4                92                   60            low             1.0   \n",
       "\n",
       "   weekday   day_name    day_date  month month_name  hour_of_day  \\\n",
       "0        2  Wednesday  2022-08-03      8     August           20   \n",
       "1        2  Wednesday  2022-08-03      8     August           20   \n",
       "2        2  Wednesday  2022-08-03      8     August           22   \n",
       "3        3   Thursday  2022-08-04      8     August            7   \n",
       "4        3   Thursday  2022-08-04      8     August            7   \n",
       "\n",
       "         session  week_of_year work_location  \n",
       "0            Eve            31       baruten  \n",
       "1            Eve            31       baruten  \n",
       "2          Night            31       baruten  \n",
       "3  Early Morning            31       baruten  \n",
       "4  Early Morning            31       baruten  "
      ]
     },
     "execution_count": 4,
     "metadata": {},
     "output_type": "execute_result"
    }
   ],
   "source": [
    "# Carrying out the descriptives for the data\n",
    "# Viewing the first few rows\n",
    "step_22.head()"
   ]
  },
  {
   "cell_type": "code",
   "execution_count": 7,
   "metadata": {},
   "outputs": [
    {
     "name": "stdout",
     "output_type": "stream",
     "text": [
      "The variables in this dataset are listed below.\n",
      "1 StartTime\n",
      "2 EndTime\n",
      "3 Steps\n",
      "4 Calories\n",
      "5 Distance(meters)\n",
      "6 ActiveTime(seconds)\n",
      "7 steps_category\n",
      "8 active_minutes\n",
      "9 weekday\n",
      "10 day_name\n",
      "11 day_date\n",
      "12 month\n",
      "13 month_name\n",
      "14 hour_of_day\n",
      "15 session\n",
      "16 week_of_year\n",
      "17 work_location\n"
     ]
    }
   ],
   "source": [
    "# The variables in the dataset\n",
    "print('The variables in this dataset are listed below.')\n",
    "for i,v in enumerate(step_22.columns):\n",
    "    print(i + 1,v)"
   ]
  },
  {
   "cell_type": "code",
   "execution_count": 8,
   "metadata": {},
   "outputs": [
    {
     "data": {
      "text/plain": [
       "(2534, 17)"
      ]
     },
     "execution_count": 8,
     "metadata": {},
     "output_type": "execute_result"
    }
   ],
   "source": [
    "# Shape: 17 columns across 2534 observations\n",
    "step_22.shape"
   ]
  },
  {
   "cell_type": "code",
   "execution_count": 9,
   "metadata": {},
   "outputs": [
    {
     "data": {
      "text/plain": [
       "StartTime               object\n",
       "EndTime                 object\n",
       "Steps                    int64\n",
       "Calories                 int64\n",
       "Distance(meters)         int64\n",
       "ActiveTime(seconds)      int64\n",
       "steps_category          object\n",
       "active_minutes         float64\n",
       "weekday                  int64\n",
       "day_name                object\n",
       "day_date                object\n",
       "month                    int64\n",
       "month_name              object\n",
       "hour_of_day              int64\n",
       "session                 object\n",
       "week_of_year             int64\n",
       "work_location           object\n",
       "dtype: object"
      ]
     },
     "execution_count": 9,
     "metadata": {},
     "output_type": "execute_result"
    }
   ],
   "source": [
    "# Data type\n",
    "step_22.dtypes"
   ]
  },
  {
   "cell_type": "code",
   "execution_count": 11,
   "metadata": {},
   "outputs": [
    {
     "data": {
      "text/plain": [
       "StartTime              0\n",
       "EndTime                0\n",
       "Steps                  0\n",
       "Calories               0\n",
       "Distance(meters)       0\n",
       "ActiveTime(seconds)    0\n",
       "steps_category         4\n",
       "active_minutes         0\n",
       "weekday                0\n",
       "day_name               0\n",
       "day_date               0\n",
       "month                  0\n",
       "month_name             0\n",
       "hour_of_day            0\n",
       "session                0\n",
       "week_of_year           0\n",
       "work_location          0\n",
       "dtype: int64"
      ]
     },
     "execution_count": 11,
     "metadata": {},
     "output_type": "execute_result"
    }
   ],
   "source": [
    "# Are there null values? None\n",
    "step_22.isnull().sum()"
   ]
  },
  {
   "cell_type": "code",
   "execution_count": 12,
   "metadata": {},
   "outputs": [
    {
     "data": {
      "text/html": [
       "<div>\n",
       "<style scoped>\n",
       "    .dataframe tbody tr th:only-of-type {\n",
       "        vertical-align: middle;\n",
       "    }\n",
       "\n",
       "    .dataframe tbody tr th {\n",
       "        vertical-align: top;\n",
       "    }\n",
       "\n",
       "    .dataframe thead th {\n",
       "        text-align: right;\n",
       "    }\n",
       "</style>\n",
       "<table border=\"1\" class=\"dataframe\">\n",
       "  <thead>\n",
       "    <tr style=\"text-align: right;\">\n",
       "      <th></th>\n",
       "      <th>Steps</th>\n",
       "      <th>Calories</th>\n",
       "      <th>Distance(meters)</th>\n",
       "      <th>ActiveTime(seconds)</th>\n",
       "      <th>active_minutes</th>\n",
       "      <th>weekday</th>\n",
       "      <th>month</th>\n",
       "      <th>hour_of_day</th>\n",
       "      <th>week_of_year</th>\n",
       "    </tr>\n",
       "  </thead>\n",
       "  <tbody>\n",
       "    <tr>\n",
       "      <th>count</th>\n",
       "      <td>2534.000000</td>\n",
       "      <td>2534.000000</td>\n",
       "      <td>2534.000000</td>\n",
       "      <td>2534.000000</td>\n",
       "      <td>2534.000000</td>\n",
       "      <td>2534.000000</td>\n",
       "      <td>2534.000000</td>\n",
       "      <td>2534.000000</td>\n",
       "      <td>2534.000000</td>\n",
       "    </tr>\n",
       "    <tr>\n",
       "      <th>mean</th>\n",
       "      <td>438.921863</td>\n",
       "      <td>18.013418</td>\n",
       "      <td>319.551302</td>\n",
       "      <td>292.688240</td>\n",
       "      <td>4.878058</td>\n",
       "      <td>2.809787</td>\n",
       "      <td>10.096290</td>\n",
       "      <td>13.498421</td>\n",
       "      <td>41.994081</td>\n",
       "    </tr>\n",
       "    <tr>\n",
       "      <th>std</th>\n",
       "      <td>377.051585</td>\n",
       "      <td>14.135707</td>\n",
       "      <td>275.123989</td>\n",
       "      <td>247.862066</td>\n",
       "      <td>4.130965</td>\n",
       "      <td>1.876393</td>\n",
       "      <td>1.300871</td>\n",
       "      <td>5.073308</td>\n",
       "      <td>5.723767</td>\n",
       "    </tr>\n",
       "    <tr>\n",
       "      <th>min</th>\n",
       "      <td>1.000000</td>\n",
       "      <td>0.000000</td>\n",
       "      <td>0.000000</td>\n",
       "      <td>60.000000</td>\n",
       "      <td>1.000000</td>\n",
       "      <td>0.000000</td>\n",
       "      <td>1.000000</td>\n",
       "      <td>0.000000</td>\n",
       "      <td>1.000000</td>\n",
       "    </tr>\n",
       "    <tr>\n",
       "      <th>25%</th>\n",
       "      <td>139.000000</td>\n",
       "      <td>6.000000</td>\n",
       "      <td>101.000000</td>\n",
       "      <td>60.000000</td>\n",
       "      <td>1.000000</td>\n",
       "      <td>1.000000</td>\n",
       "      <td>9.000000</td>\n",
       "      <td>9.000000</td>\n",
       "      <td>38.000000</td>\n",
       "    </tr>\n",
       "    <tr>\n",
       "      <th>50%</th>\n",
       "      <td>312.500000</td>\n",
       "      <td>14.000000</td>\n",
       "      <td>227.500000</td>\n",
       "      <td>180.000000</td>\n",
       "      <td>3.000000</td>\n",
       "      <td>3.000000</td>\n",
       "      <td>10.000000</td>\n",
       "      <td>13.000000</td>\n",
       "      <td>42.000000</td>\n",
       "    </tr>\n",
       "    <tr>\n",
       "      <th>75%</th>\n",
       "      <td>646.000000</td>\n",
       "      <td>26.750000</td>\n",
       "      <td>468.750000</td>\n",
       "      <td>420.000000</td>\n",
       "      <td>7.000000</td>\n",
       "      <td>4.000000</td>\n",
       "      <td>11.000000</td>\n",
       "      <td>18.000000</td>\n",
       "      <td>47.000000</td>\n",
       "    </tr>\n",
       "    <tr>\n",
       "      <th>max</th>\n",
       "      <td>1805.000000</td>\n",
       "      <td>63.000000</td>\n",
       "      <td>1321.000000</td>\n",
       "      <td>900.000000</td>\n",
       "      <td>15.000000</td>\n",
       "      <td>6.000000</td>\n",
       "      <td>12.000000</td>\n",
       "      <td>23.000000</td>\n",
       "      <td>52.000000</td>\n",
       "    </tr>\n",
       "  </tbody>\n",
       "</table>\n",
       "</div>"
      ],
      "text/plain": [
       "             Steps     Calories  Distance(meters)  ActiveTime(seconds)  \\\n",
       "count  2534.000000  2534.000000       2534.000000          2534.000000   \n",
       "mean    438.921863    18.013418        319.551302           292.688240   \n",
       "std     377.051585    14.135707        275.123989           247.862066   \n",
       "min       1.000000     0.000000          0.000000            60.000000   \n",
       "25%     139.000000     6.000000        101.000000            60.000000   \n",
       "50%     312.500000    14.000000        227.500000           180.000000   \n",
       "75%     646.000000    26.750000        468.750000           420.000000   \n",
       "max    1805.000000    63.000000       1321.000000           900.000000   \n",
       "\n",
       "       active_minutes      weekday        month  hour_of_day  week_of_year  \n",
       "count     2534.000000  2534.000000  2534.000000  2534.000000   2534.000000  \n",
       "mean         4.878058     2.809787    10.096290    13.498421     41.994081  \n",
       "std          4.130965     1.876393     1.300871     5.073308      5.723767  \n",
       "min          1.000000     0.000000     1.000000     0.000000      1.000000  \n",
       "25%          1.000000     1.000000     9.000000     9.000000     38.000000  \n",
       "50%          3.000000     3.000000    10.000000    13.000000     42.000000  \n",
       "75%          7.000000     4.000000    11.000000    18.000000     47.000000  \n",
       "max         15.000000     6.000000    12.000000    23.000000     52.000000  "
      ]
     },
     "execution_count": 12,
     "metadata": {},
     "output_type": "execute_result"
    }
   ],
   "source": [
    "# Describing the quantitative variables\n",
    "step_22.describe()"
   ]
  },
  {
   "cell_type": "markdown",
   "metadata": {},
   "source": [
    "    1. The steps ranges from 1 to 1805 per episode. The median step is 312.5. It can be seen that the step data does not appear to be normally distributed as the maxium value is 2.79 the 75th percentile.\n",
    "    2. The calories burned ranges from 0 to 63. The distance covered ranges from 0 metres to 1321 metres. \n",
    "    3. All real quantitative variables have high range. Weekday, month, hour_of_day, and week_of_year are not real quantitative variables as they are just ordinals."
   ]
  },
  {
   "cell_type": "code",
   "execution_count": 30,
   "metadata": {
    "scrolled": true
   },
   "outputs": [
    {
     "data": {
      "image/png": "[encoded data removed]",
      "text/plain": [
       "<Figure size 432x288 with 4 Axes>"
      ]
     },
     "metadata": {
      "needs_background": "light"
     },
     "output_type": "display_data"
    }
   ],
   "source": [
    "# Visualizing the distribution of the quantitaive variables\n",
    "fig, axes = plt.subplots(2,2)\n",
    "\n",
    "sns.histplot(step_22.Steps, kde=True, ax=axes[0,0]);\n",
    "sns.histplot(step_22.Calories, kde=True, ax=axes[0,1]);\n",
    "sns.histplot(step_22['Distance(meters)'], kde=True, ax=axes[1,0]);\n",
    "sns.histplot(step_22['ActiveTime(seconds)'], kde=True, ax=axes[1,1]);"
   ]
  },
  {
   "cell_type": "markdown",
   "metadata": {},
   "source": [
    "<img src=\"images.png\" alt=\"Skeweness depiction\"/>"
   ]
  },
  {
   "cell_type": "markdown",
   "metadata": {},
   "source": [
    "As shown in the skeweness depictions above, all the quantitative variables are positively skewed (right skewed)."
   ]
  },
  {
   "cell_type": "code",
   "execution_count": 35,
   "metadata": {},
   "outputs": [
    {
     "data": {
      "image/png": "[encoded data removed]",
      "text/plain": [
       "<Figure size 432x288 with 4 Axes>"
      ]
     },
     "metadata": {
      "needs_background": "light"
     },
     "output_type": "display_data"
    }
   ],
   "source": [
    "# Visualizing the distribution of the qualitative variables\n",
    "fig, axes = plt.subplots(2,2)\n",
    "\n",
    "sns.boxplot(step_22.steps_category.value_counts(), ax=axes[0,0]);\n",
    "sns.boxplot(step_22.session.value_counts(), ax=axes[0,1]);\n",
    "sns.boxplot(step_22.work_location.value_counts(), ax=axes[1,0]);\n",
    "sns.boxplot(step_22.month_name.value_counts(), ax=axes[1,1]);"
   ]
  },
  {
   "cell_type": "markdown",
   "metadata": {},
   "source": [
    "Cleaning Decision: For most of the research questions, the dataset will be used as it is. It will only be adjusted for predicting the steps in 2023."
   ]
  },
  {
   "cell_type": "code",
   "execution_count": null,
   "metadata": {},
   "outputs": [],
   "source": []
  }
 ],
 "metadata": {
  "kernelspec": {
   "display_name": "Python 3.8.1 64-bit",
   "language": "python",
   "name": "python38164bit3f3e3f4298444f59ac4a2da49ab7ba9c"
  },
  "language_info": {
   "codemirror_mode": {
    "name": "ipython",
    "version": 3
   },
   "file_extension": ".py",
   "mimetype": "text/x-python",
   "name": "python",
   "nbconvert_exporter": "python",
   "pygments_lexer": "ipython3",
   "version": "3.8.1"
  }
 },
 "nbformat": 4,
 "nbformat_minor": 4
}
