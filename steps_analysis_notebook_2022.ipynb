{
 "cells": [
  {
   "cell_type": "markdown",
   "metadata": {},
   "source": [
    "# 2022 DAILY STEPS ANALYSIS\n",
    "<hr>\n",
    "\n",
    "## Amos Moses Omofaiye *Data Analyst and Learning Facilitator*\n",
    "\n",
    "### Table of Contents\n",
    "<ol>\n",
    "<li><a href=\"#intro\">Introduction</a></li>\n",
    "<li><a href=\"#source\">Source of Data</a></li>\n",
    "<li><a href=\"#range\">Range of Data</a></li>\n",
    "<li><a href=\"#objective\">Objective</a></li>\n",
    "<li><a href=\"#research\">Research Questions</a></li>\n",
    "<li><a href=\"#eda\">Exploratory Data Analysis</a></li>\n",
    "<li><a href=\"#ida\">Inferential Data Analysis</a></li>\n",
    "<li><a href=\"#pred23\">Predicting 2023 Steps</a></li>\n",
    "<li><a href=\"#conclusion\">Conclusions</a></li>\n",
    "<li><a href=\"#references\">References</a></li>\n",
    "</ol>"
   ]
  },
  {
   "cell_type": "markdown",
   "metadata": {},
   "source": [
    "<a id='intro'></a>\n",
    "## Introduction\n",
    "This notebook displays the analysis of my steps for five months in 2022 and the prdicted steps for 2023."
   ]
  },
  {
   "cell_type": "markdown",
   "metadata": {},
   "source": [
    "<a id='source'></a>\n",
    "## Source\n",
    "* The source of this data is the pacer app.\n"
   ]
  },
  {
   "cell_type": "markdown",
   "metadata": {},
   "source": [
    "<a id='range'></a>\n",
    "## Range\n",
    "* The data was collected between August 3, 2022 and December 31, 2022. It is the reseacher's real distance covered data while visitind different places across three states in Nigeria.\n"
   ]
  },
  {
   "cell_type": "markdown",
   "metadata": {},
   "source": [
    "<a id='source'></a>\n",
    "## Objective\n",
    "The objective of the analysis is to demonstrate the analysis of real-life data and to use the end product to improve the researcher's health management.\n",
    "\n"
   ]
  },
  {
   "cell_type": "markdown",
   "metadata": {},
   "source": [
    "<a id='research'></a>\n",
    "## Research Questions"
   ]
  },
  {
   "cell_type": "code",
   "execution_count": null,
   "metadata": {},
   "outputs": [],
   "source": []
  }
 ],
 "metadata": {
  "kernelspec": {
   "display_name": "Python 3.8.1 64-bit",
   "language": "python",
   "name": "python38164bit3f3e3f4298444f59ac4a2da49ab7ba9c"
  },
  "language_info": {
   "codemirror_mode": {
    "name": "ipython",
    "version": 3
   },
   "file_extension": ".py",
   "mimetype": "text/x-python",
   "name": "python",
   "nbconvert_exporter": "python",
   "pygments_lexer": "ipython3",
   "version": "3.8.1"
  }
 },
 "nbformat": 4,
 "nbformat_minor": 4
}
